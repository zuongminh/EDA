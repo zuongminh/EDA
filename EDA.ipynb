{
 "cells": [
  {
   "cell_type": "code",
   "execution_count": 61,
   "metadata": {
    "tags": []
   },
   "outputs": [],
   "source": [
    "import pandas as pd\n",
    "import matplotlib.pyplot as plt\n",
    "import squarify\n"
   ]
  },
  {
   "cell_type": "code",
   "execution_count": 62,
   "metadata": {},
   "outputs": [
    {
     "data": {
      "text/html": [
       "<div>\n",
       "<style scoped>\n",
       "    .dataframe tbody tr th:only-of-type {\n",
       "        vertical-align: middle;\n",
       "    }\n",
       "\n",
       "    .dataframe tbody tr th {\n",
       "        vertical-align: top;\n",
       "    }\n",
       "\n",
       "    .dataframe thead th {\n",
       "        text-align: right;\n",
       "    }\n",
       "</style>\n",
       "<table border=\"1\" class=\"dataframe\">\n",
       "  <thead>\n",
       "    <tr style=\"text-align: right;\">\n",
       "      <th></th>\n",
       "      <th>product_id</th>\n",
       "      <th>product_name</th>\n",
       "      <th>brand</th>\n",
       "      <th>category</th>\n",
       "    </tr>\n",
       "  </thead>\n",
       "  <tbody>\n",
       "    <tr>\n",
       "      <th>0</th>\n",
       "      <td>E1122</td>\n",
       "      <td>Sony WH-1000XM4 Wireless Premium Noise Canceli...</td>\n",
       "      <td>Sony</td>\n",
       "      <td>Audio</td>\n",
       "    </tr>\n",
       "    <tr>\n",
       "      <th>1</th>\n",
       "      <td>E2350</td>\n",
       "      <td>ASUS ROG Strix G15 Gaming Laptop</td>\n",
       "      <td>ASUS</td>\n",
       "      <td>Gaming</td>\n",
       "    </tr>\n",
       "    <tr>\n",
       "      <th>2</th>\n",
       "      <td>B09156P11D</td>\n",
       "      <td>Whirlpool WGT4050MWM Whirlpool 5.0 cu. ft. Gas...</td>\n",
       "      <td>Whirlpool</td>\n",
       "      <td>Home Appliances</td>\n",
       "    </tr>\n",
       "    <tr>\n",
       "      <th>3</th>\n",
       "      <td>E14560</td>\n",
       "      <td>Tile Pro (2020) 4-Pack Bluetooth Tracker</td>\n",
       "      <td>Tile</td>\n",
       "      <td>Electronics</td>\n",
       "    </tr>\n",
       "    <tr>\n",
       "      <th>4</th>\n",
       "      <td>E14563</td>\n",
       "      <td>Canon EOS R Mirrorless Camera with RF 24-105mm...</td>\n",
       "      <td>Canon</td>\n",
       "      <td>Cameras &amp; Photography</td>\n",
       "    </tr>\n",
       "  </tbody>\n",
       "</table>\n",
       "</div>"
      ],
      "text/plain": [
       "   product_id                                       product_name      brand  \\\n",
       "0       E1122  Sony WH-1000XM4 Wireless Premium Noise Canceli...       Sony   \n",
       "1       E2350                   ASUS ROG Strix G15 Gaming Laptop       ASUS   \n",
       "2  B09156P11D  Whirlpool WGT4050MWM Whirlpool 5.0 cu. ft. Gas...  Whirlpool   \n",
       "3      E14560           Tile Pro (2020) 4-Pack Bluetooth Tracker       Tile   \n",
       "4      E14563  Canon EOS R Mirrorless Camera with RF 24-105mm...      Canon   \n",
       "\n",
       "                category  \n",
       "0                 Audio   \n",
       "1                Gaming   \n",
       "2       Home Appliances   \n",
       "3           Electronics   \n",
       "4  Cameras & Photography  "
      ]
     },
     "execution_count": 62,
     "metadata": {},
     "output_type": "execute_result"
    }
   ],
   "source": [
    "\n",
    "df1 = pd.read_excel(r'C:/Users/Admin/Desktop/Sale_Data.xlsx', sheet_name='products')\n",
    "df1.head()\n",
    "\n",
    "\n"
   ]
  },
  {
   "cell_type": "code",
   "execution_count": 63,
   "metadata": {},
   "outputs": [
    {
     "name": "stdout",
     "output_type": "stream",
     "text": [
      "<class 'pandas.core.frame.DataFrame'>\n",
      "RangeIndex: 71 entries, 0 to 70\n",
      "Data columns (total 4 columns):\n",
      " #   Column        Non-Null Count  Dtype \n",
      "---  ------        --------------  ----- \n",
      " 0   product_id    71 non-null     object\n",
      " 1   product_name  71 non-null     object\n",
      " 2   brand         71 non-null     object\n",
      " 3   category      70 non-null     object\n",
      "dtypes: object(4)\n",
      "memory usage: 2.3+ KB\n"
     ]
    }
   ],
   "source": [
    "df1.info()"
   ]
  },
  {
   "cell_type": "code",
   "execution_count": 64,
   "metadata": {},
   "outputs": [
    {
     "data": {
      "text/plain": [
       "product_id      0\n",
       "product_name    0\n",
       "brand           0\n",
       "category        1\n",
       "dtype: int64"
      ]
     },
     "execution_count": 64,
     "metadata": {},
     "output_type": "execute_result"
    }
   ],
   "source": [
    "df1.isnull().sum()"
   ]
  },
  {
   "cell_type": "code",
   "execution_count": 65,
   "metadata": {},
   "outputs": [
    {
     "data": {
      "text/html": [
       "<div>\n",
       "<style scoped>\n",
       "    .dataframe tbody tr th:only-of-type {\n",
       "        vertical-align: middle;\n",
       "    }\n",
       "\n",
       "    .dataframe tbody tr th {\n",
       "        vertical-align: top;\n",
       "    }\n",
       "\n",
       "    .dataframe thead th {\n",
       "        text-align: right;\n",
       "    }\n",
       "</style>\n",
       "<table border=\"1\" class=\"dataframe\">\n",
       "  <thead>\n",
       "    <tr style=\"text-align: right;\">\n",
       "      <th></th>\n",
       "      <th>product_id</th>\n",
       "      <th>product_name</th>\n",
       "      <th>brand</th>\n",
       "      <th>category</th>\n",
       "    </tr>\n",
       "  </thead>\n",
       "  <tbody>\n",
       "    <tr>\n",
       "      <th>16</th>\n",
       "      <td>E12353</td>\n",
       "      <td>Anker Soundcore Liberty Air 2 Pro</td>\n",
       "      <td>Anker</td>\n",
       "      <td>NaN</td>\n",
       "    </tr>\n",
       "  </tbody>\n",
       "</table>\n",
       "</div>"
      ],
      "text/plain": [
       "   product_id                       product_name  brand category\n",
       "16     E12353  Anker Soundcore Liberty Air 2 Pro  Anker      NaN"
      ]
     },
     "execution_count": 65,
     "metadata": {},
     "output_type": "execute_result"
    }
   ],
   "source": [
    "df1[df1.isnull().any(axis=1)]"
   ]
  },
  {
   "cell_type": "code",
   "execution_count": 89,
   "metadata": {},
   "outputs": [
    {
     "data": {
      "text/plain": [
       "array(['Audio ', 'Gaming ', 'Home Appliances ', 'Electronics ',\n",
       "       'Cameras & Photography', 'Wearable Technology',\n",
       "       'Computers & Accessories ', 'Audio', 'Virtual Reality',\n",
       "       'Smart Home Devices'], dtype=object)"
      ]
     },
     "execution_count": 89,
     "metadata": {},
     "output_type": "execute_result"
    }
   ],
   "source": [
    "df1.category.unique()"
   ]
  },
  {
   "cell_type": "code",
   "execution_count": 67,
   "metadata": {},
   "outputs": [
    {
     "data": {
      "text/html": [
       "<div>\n",
       "<style scoped>\n",
       "    .dataframe tbody tr th:only-of-type {\n",
       "        vertical-align: middle;\n",
       "    }\n",
       "\n",
       "    .dataframe tbody tr th {\n",
       "        vertical-align: top;\n",
       "    }\n",
       "\n",
       "    .dataframe thead th {\n",
       "        text-align: right;\n",
       "    }\n",
       "</style>\n",
       "<table border=\"1\" class=\"dataframe\">\n",
       "  <thead>\n",
       "    <tr style=\"text-align: right;\">\n",
       "      <th></th>\n",
       "      <th>product_id</th>\n",
       "      <th>product_name</th>\n",
       "      <th>brand</th>\n",
       "      <th>category</th>\n",
       "    </tr>\n",
       "  </thead>\n",
       "  <tbody>\n",
       "    <tr>\n",
       "      <th>16</th>\n",
       "      <td>E12353</td>\n",
       "      <td>Anker Soundcore Liberty Air 2 Pro</td>\n",
       "      <td>Anker</td>\n",
       "      <td>Audio</td>\n",
       "    </tr>\n",
       "  </tbody>\n",
       "</table>\n",
       "</div>"
      ],
      "text/plain": [
       "   product_id                       product_name  brand category\n",
       "16     E12353  Anker Soundcore Liberty Air 2 Pro  Anker    Audio"
      ]
     },
     "execution_count": 67,
     "metadata": {},
     "output_type": "execute_result"
    }
   ],
   "source": [
    "# Replace NaN values in 'category' column with 'audio'\n",
    "df1['category'] = df1['category'].fillna('Audio')\n",
    "df1[df1.product_id==\"E12353\"]"
   ]
  },
  {
   "cell_type": "code",
   "execution_count": 68,
   "metadata": {},
   "outputs": [
    {
     "data": {
      "text/html": [
       "<div>\n",
       "<style scoped>\n",
       "    .dataframe tbody tr th:only-of-type {\n",
       "        vertical-align: middle;\n",
       "    }\n",
       "\n",
       "    .dataframe tbody tr th {\n",
       "        vertical-align: top;\n",
       "    }\n",
       "\n",
       "    .dataframe thead th {\n",
       "        text-align: right;\n",
       "    }\n",
       "</style>\n",
       "<table border=\"1\" class=\"dataframe\">\n",
       "  <thead>\n",
       "    <tr style=\"text-align: right;\">\n",
       "      <th></th>\n",
       "      <th>transaction_id</th>\n",
       "      <th>transaction time</th>\n",
       "      <th>customer_id</th>\n",
       "      <th>price</th>\n",
       "      <th>quantity</th>\n",
       "      <th>total</th>\n",
       "      <th>product_id</th>\n",
       "      <th>payment_method</th>\n",
       "      <th>status</th>\n",
       "    </tr>\n",
       "  </thead>\n",
       "  <tbody>\n",
       "    <tr>\n",
       "      <th>0</th>\n",
       "      <td>363008.0</td>\n",
       "      <td>2023-12-07 21:14:05.000</td>\n",
       "      <td>216</td>\n",
       "      <td>1299.0</td>\n",
       "      <td>2</td>\n",
       "      <td>2598.0</td>\n",
       "      <td>E14564</td>\n",
       "      <td>Cash</td>\n",
       "      <td>Shipped</td>\n",
       "    </tr>\n",
       "    <tr>\n",
       "      <th>1</th>\n",
       "      <td>364318.0</td>\n",
       "      <td>2023-08-08 11:46:38.000</td>\n",
       "      <td>777</td>\n",
       "      <td>1234.0</td>\n",
       "      <td>1</td>\n",
       "      <td>1234.0</td>\n",
       "      <td>E14559</td>\n",
       "      <td>Credit Card</td>\n",
       "      <td>Shipped</td>\n",
       "    </tr>\n",
       "    <tr>\n",
       "      <th>2</th>\n",
       "      <td>658391.0</td>\n",
       "      <td>2022-09-26 17:22:44.192</td>\n",
       "      <td>55</td>\n",
       "      <td>1200.0</td>\n",
       "      <td>1</td>\n",
       "      <td>1200.0</td>\n",
       "      <td>B097ZW9P6Y</td>\n",
       "      <td>Debit Card</td>\n",
       "      <td>Completed</td>\n",
       "    </tr>\n",
       "    <tr>\n",
       "      <th>3</th>\n",
       "      <td>96439.0</td>\n",
       "      <td>2023-08-07 14:46:38.303</td>\n",
       "      <td>430</td>\n",
       "      <td>1000.0</td>\n",
       "      <td>2</td>\n",
       "      <td>2000.0</td>\n",
       "      <td>E14558</td>\n",
       "      <td>Credit Card</td>\n",
       "      <td>Shipped</td>\n",
       "    </tr>\n",
       "    <tr>\n",
       "      <th>4</th>\n",
       "      <td>96439.0</td>\n",
       "      <td>2022-03-11 10:07:15.833</td>\n",
       "      <td>94</td>\n",
       "      <td>999.0</td>\n",
       "      <td>2</td>\n",
       "      <td>1998.0</td>\n",
       "      <td>E2353</td>\n",
       "      <td>Credit Card</td>\n",
       "      <td>Completed</td>\n",
       "    </tr>\n",
       "  </tbody>\n",
       "</table>\n",
       "</div>"
      ],
      "text/plain": [
       "   transaction_id        transaction time  customer_id   price  quantity  \\\n",
       "0        363008.0 2023-12-07 21:14:05.000          216  1299.0         2   \n",
       "1        364318.0 2023-08-08 11:46:38.000          777  1234.0         1   \n",
       "2        658391.0 2022-09-26 17:22:44.192           55  1200.0         1   \n",
       "3         96439.0 2023-08-07 14:46:38.303          430  1000.0         2   \n",
       "4         96439.0 2022-03-11 10:07:15.833           94   999.0         2   \n",
       "\n",
       "    total  product_id payment_method     status  \n",
       "0  2598.0      E14564           Cash    Shipped  \n",
       "1  1234.0      E14559    Credit Card    Shipped  \n",
       "2  1200.0  B097ZW9P6Y     Debit Card  Completed  \n",
       "3  2000.0      E14558    Credit Card    Shipped  \n",
       "4  1998.0       E2353    Credit Card  Completed  "
      ]
     },
     "execution_count": 68,
     "metadata": {},
     "output_type": "execute_result"
    }
   ],
   "source": [
    "df2 = pd.read_excel(r'C:/Users/Admin/Desktop/Sale_Data.xlsx', sheet_name='transaction')\n",
    "df2.head()"
   ]
  },
  {
   "cell_type": "code",
   "execution_count": 69,
   "metadata": {},
   "outputs": [
    {
     "name": "stdout",
     "output_type": "stream",
     "text": [
      "<class 'pandas.core.frame.DataFrame'>\n",
      "RangeIndex: 72 entries, 0 to 71\n",
      "Data columns (total 9 columns):\n",
      " #   Column            Non-Null Count  Dtype         \n",
      "---  ------            --------------  -----         \n",
      " 0   transaction_id    71 non-null     float64       \n",
      " 1   transaction time  72 non-null     datetime64[ns]\n",
      " 2   customer_id       72 non-null     int64         \n",
      " 3   price             72 non-null     float64       \n",
      " 4   quantity          72 non-null     int64         \n",
      " 5   total             72 non-null     float64       \n",
      " 6   product_id        72 non-null     object        \n",
      " 7   payment_method    72 non-null     object        \n",
      " 8   status            72 non-null     object        \n",
      "dtypes: datetime64[ns](1), float64(3), int64(2), object(3)\n",
      "memory usage: 5.2+ KB\n"
     ]
    }
   ],
   "source": [
    "df2.info()"
   ]
  },
  {
   "cell_type": "code",
   "execution_count": 70,
   "metadata": {},
   "outputs": [
    {
     "data": {
      "text/html": [
       "<div>\n",
       "<style scoped>\n",
       "    .dataframe tbody tr th:only-of-type {\n",
       "        vertical-align: middle;\n",
       "    }\n",
       "\n",
       "    .dataframe tbody tr th {\n",
       "        vertical-align: top;\n",
       "    }\n",
       "\n",
       "    .dataframe thead th {\n",
       "        text-align: right;\n",
       "    }\n",
       "</style>\n",
       "<table border=\"1\" class=\"dataframe\">\n",
       "  <thead>\n",
       "    <tr style=\"text-align: right;\">\n",
       "      <th></th>\n",
       "      <th>transaction_id</th>\n",
       "      <th>transaction time</th>\n",
       "      <th>customer_id</th>\n",
       "      <th>price</th>\n",
       "      <th>quantity</th>\n",
       "      <th>total</th>\n",
       "      <th>product_id</th>\n",
       "      <th>payment_method</th>\n",
       "      <th>status</th>\n",
       "    </tr>\n",
       "  </thead>\n",
       "  <tbody>\n",
       "    <tr>\n",
       "      <th>44</th>\n",
       "      <td>NaN</td>\n",
       "      <td>2022-06-22 23:59:03.498</td>\n",
       "      <td>149</td>\n",
       "      <td>200.0</td>\n",
       "      <td>1</td>\n",
       "      <td>200.0</td>\n",
       "      <td>E2356</td>\n",
       "      <td>Cash</td>\n",
       "      <td>Completed</td>\n",
       "    </tr>\n",
       "  </tbody>\n",
       "</table>\n",
       "</div>"
      ],
      "text/plain": [
       "    transaction_id        transaction time  customer_id  price  quantity  \\\n",
       "44             NaN 2022-06-22 23:59:03.498          149  200.0         1   \n",
       "\n",
       "    total product_id payment_method     status  \n",
       "44  200.0      E2356           Cash  Completed  "
      ]
     },
     "execution_count": 70,
     "metadata": {},
     "output_type": "execute_result"
    }
   ],
   "source": [
    "df2[df2.isna().any(axis=1)]"
   ]
  },
  {
   "cell_type": "code",
   "execution_count": 71,
   "metadata": {},
   "outputs": [
    {
     "name": "stdout",
     "output_type": "stream",
     "text": [
      "<class 'pandas.core.frame.DataFrame'>\n",
      "Index: 71 entries, 0 to 71\n",
      "Data columns (total 9 columns):\n",
      " #   Column            Non-Null Count  Dtype         \n",
      "---  ------            --------------  -----         \n",
      " 0   transaction_id    71 non-null     float64       \n",
      " 1   transaction time  71 non-null     datetime64[ns]\n",
      " 2   customer_id       71 non-null     int64         \n",
      " 3   price             71 non-null     float64       \n",
      " 4   quantity          71 non-null     int64         \n",
      " 5   total             71 non-null     float64       \n",
      " 6   product_id        71 non-null     object        \n",
      " 7   payment_method    71 non-null     object        \n",
      " 8   status            71 non-null     object        \n",
      "dtypes: datetime64[ns](1), float64(3), int64(2), object(3)\n",
      "memory usage: 5.5+ KB\n"
     ]
    }
   ],
   "source": [
    "df2.dropna(inplace=True)\n",
    "df2.info()"
   ]
  },
  {
   "cell_type": "code",
   "execution_count": 72,
   "metadata": {},
   "outputs": [
    {
     "data": {
      "text/plain": [
       "transaction_id      70\n",
       "transaction time    71\n",
       "customer_id         66\n",
       "price               45\n",
       "quantity             2\n",
       "total               52\n",
       "product_id          66\n",
       "payment_method       4\n",
       "status               4\n",
       "dtype: int64"
      ]
     },
     "execution_count": 72,
     "metadata": {},
     "output_type": "execute_result"
    }
   ],
   "source": [
    "df2.nunique()\t"
   ]
  },
  {
   "cell_type": "code",
   "execution_count": 73,
   "metadata": {},
   "outputs": [
    {
     "data": {
      "text/html": [
       "<div>\n",
       "<style scoped>\n",
       "    .dataframe tbody tr th:only-of-type {\n",
       "        vertical-align: middle;\n",
       "    }\n",
       "\n",
       "    .dataframe tbody tr th {\n",
       "        vertical-align: top;\n",
       "    }\n",
       "\n",
       "    .dataframe thead th {\n",
       "        text-align: right;\n",
       "    }\n",
       "</style>\n",
       "<table border=\"1\" class=\"dataframe\">\n",
       "  <thead>\n",
       "    <tr style=\"text-align: right;\">\n",
       "      <th></th>\n",
       "      <th>transaction_id</th>\n",
       "      <th>transaction time</th>\n",
       "      <th>customer_id</th>\n",
       "      <th>price</th>\n",
       "      <th>quantity</th>\n",
       "      <th>total</th>\n",
       "      <th>product_id</th>\n",
       "      <th>payment_method</th>\n",
       "      <th>status</th>\n",
       "    </tr>\n",
       "  </thead>\n",
       "  <tbody>\n",
       "    <tr>\n",
       "      <th>3</th>\n",
       "      <td>96439.0</td>\n",
       "      <td>2023-08-07 14:46:38.303</td>\n",
       "      <td>430</td>\n",
       "      <td>1000.0</td>\n",
       "      <td>2</td>\n",
       "      <td>2000.0</td>\n",
       "      <td>E14558</td>\n",
       "      <td>Credit Card</td>\n",
       "      <td>Shipped</td>\n",
       "    </tr>\n",
       "    <tr>\n",
       "      <th>4</th>\n",
       "      <td>96439.0</td>\n",
       "      <td>2022-03-11 10:07:15.833</td>\n",
       "      <td>94</td>\n",
       "      <td>999.0</td>\n",
       "      <td>2</td>\n",
       "      <td>1998.0</td>\n",
       "      <td>E2353</td>\n",
       "      <td>Credit Card</td>\n",
       "      <td>Completed</td>\n",
       "    </tr>\n",
       "  </tbody>\n",
       "</table>\n",
       "</div>"
      ],
      "text/plain": [
       "   transaction_id        transaction time  customer_id   price  quantity  \\\n",
       "3         96439.0 2023-08-07 14:46:38.303          430  1000.0         2   \n",
       "4         96439.0 2022-03-11 10:07:15.833           94   999.0         2   \n",
       "\n",
       "    total product_id payment_method     status  \n",
       "3  2000.0     E14558    Credit Card    Shipped  \n",
       "4  1998.0      E2353    Credit Card  Completed  "
      ]
     },
     "execution_count": 73,
     "metadata": {},
     "output_type": "execute_result"
    }
   ],
   "source": [
    "# Get duplicate rows based on 'transaction_id'\n",
    "duplicates = df2[df2.duplicated('transaction_id', keep=False)]\n",
    "\n",
    "duplicates"
   ]
  },
  {
   "cell_type": "code",
   "execution_count": 74,
   "metadata": {},
   "outputs": [
    {
     "data": {
      "text/html": [
       "<div>\n",
       "<style scoped>\n",
       "    .dataframe tbody tr th:only-of-type {\n",
       "        vertical-align: middle;\n",
       "    }\n",
       "\n",
       "    .dataframe tbody tr th {\n",
       "        vertical-align: top;\n",
       "    }\n",
       "\n",
       "    .dataframe thead th {\n",
       "        text-align: right;\n",
       "    }\n",
       "</style>\n",
       "<table border=\"1\" class=\"dataframe\">\n",
       "  <thead>\n",
       "    <tr style=\"text-align: right;\">\n",
       "      <th></th>\n",
       "      <th>transaction_id</th>\n",
       "      <th>transaction time</th>\n",
       "      <th>customer_id</th>\n",
       "      <th>price</th>\n",
       "      <th>quantity</th>\n",
       "      <th>total</th>\n",
       "      <th>product_id</th>\n",
       "      <th>payment_method</th>\n",
       "      <th>status</th>\n",
       "    </tr>\n",
       "  </thead>\n",
       "  <tbody>\n",
       "    <tr>\n",
       "      <th>3</th>\n",
       "      <td>989719.0</td>\n",
       "      <td>2023-08-07 14:46:38.303</td>\n",
       "      <td>430</td>\n",
       "      <td>1000.0</td>\n",
       "      <td>2</td>\n",
       "      <td>2000.0</td>\n",
       "      <td>E14558</td>\n",
       "      <td>Credit Card</td>\n",
       "      <td>Shipped</td>\n",
       "    </tr>\n",
       "  </tbody>\n",
       "</table>\n",
       "</div>"
      ],
      "text/plain": [
       "   transaction_id        transaction time  customer_id   price  quantity  \\\n",
       "3        989719.0 2023-08-07 14:46:38.303          430  1000.0         2   \n",
       "\n",
       "    total product_id payment_method   status  \n",
       "3  2000.0     E14558    Credit Card  Shipped  "
      ]
     },
     "execution_count": 74,
     "metadata": {},
     "output_type": "execute_result"
    }
   ],
   "source": [
    "# Generate a new unique ID that doesn't exist in the 'transaction_id' column\n",
    "new_id = df2['transaction_id'].max() + 1\n",
    "\n",
    "# Replace the 'transaction_id' of the first duplicate with the new unique ID\n",
    "df2.loc[duplicates.index[0], 'transaction_id'] = new_id\n",
    "\n",
    "df2[df2.transaction_id == new_id]"
   ]
  },
  {
   "cell_type": "code",
   "execution_count": 75,
   "metadata": {},
   "outputs": [
    {
     "name": "stdout",
     "output_type": "stream",
     "text": [
      "<class 'pandas.core.frame.DataFrame'>\n",
      "Index: 71 entries, 0 to 71\n",
      "Data columns (total 9 columns):\n",
      " #   Column            Non-Null Count  Dtype         \n",
      "---  ------            --------------  -----         \n",
      " 0   transaction_id    71 non-null     float64       \n",
      " 1   transaction time  71 non-null     datetime64[ns]\n",
      " 2   customer_id       71 non-null     int64         \n",
      " 3   price             71 non-null     float64       \n",
      " 4   quantity          71 non-null     int64         \n",
      " 5   total             71 non-null     float64       \n",
      " 6   product_id        71 non-null     object        \n",
      " 7   payment_method    71 non-null     object        \n",
      " 8   status            71 non-null     object        \n",
      "dtypes: datetime64[ns](1), float64(3), int64(2), object(3)\n",
      "memory usage: 7.6+ KB\n"
     ]
    }
   ],
   "source": [
    "df2.info()"
   ]
  },
  {
   "cell_type": "code",
   "execution_count": 76,
   "metadata": {},
   "outputs": [
    {
     "data": {
      "text/html": [
       "<div>\n",
       "<style scoped>\n",
       "    .dataframe tbody tr th:only-of-type {\n",
       "        vertical-align: middle;\n",
       "    }\n",
       "\n",
       "    .dataframe tbody tr th {\n",
       "        vertical-align: top;\n",
       "    }\n",
       "\n",
       "    .dataframe thead th {\n",
       "        text-align: right;\n",
       "    }\n",
       "</style>\n",
       "<table border=\"1\" class=\"dataframe\">\n",
       "  <thead>\n",
       "    <tr style=\"text-align: right;\">\n",
       "      <th></th>\n",
       "      <th>transaction_id</th>\n",
       "      <th>transaction time</th>\n",
       "      <th>customer_id</th>\n",
       "      <th>price</th>\n",
       "      <th>quantity</th>\n",
       "      <th>total</th>\n",
       "      <th>product_id</th>\n",
       "      <th>payment_method</th>\n",
       "      <th>status</th>\n",
       "    </tr>\n",
       "  </thead>\n",
       "  <tbody>\n",
       "    <tr>\n",
       "      <th>0</th>\n",
       "      <td>363008</td>\n",
       "      <td>2023-12-07 21:14:05.000</td>\n",
       "      <td>216</td>\n",
       "      <td>1299.0</td>\n",
       "      <td>2</td>\n",
       "      <td>2598.0</td>\n",
       "      <td>E14564</td>\n",
       "      <td>Cash</td>\n",
       "      <td>Shipped</td>\n",
       "    </tr>\n",
       "    <tr>\n",
       "      <th>1</th>\n",
       "      <td>364318</td>\n",
       "      <td>2023-08-08 11:46:38.000</td>\n",
       "      <td>777</td>\n",
       "      <td>1234.0</td>\n",
       "      <td>1</td>\n",
       "      <td>1234.0</td>\n",
       "      <td>E14559</td>\n",
       "      <td>Credit Card</td>\n",
       "      <td>Shipped</td>\n",
       "    </tr>\n",
       "    <tr>\n",
       "      <th>2</th>\n",
       "      <td>658391</td>\n",
       "      <td>2022-09-26 17:22:44.192</td>\n",
       "      <td>55</td>\n",
       "      <td>1200.0</td>\n",
       "      <td>1</td>\n",
       "      <td>1200.0</td>\n",
       "      <td>B097ZW9P6Y</td>\n",
       "      <td>Debit Card</td>\n",
       "      <td>Completed</td>\n",
       "    </tr>\n",
       "    <tr>\n",
       "      <th>3</th>\n",
       "      <td>989719</td>\n",
       "      <td>2023-08-07 14:46:38.303</td>\n",
       "      <td>430</td>\n",
       "      <td>1000.0</td>\n",
       "      <td>2</td>\n",
       "      <td>2000.0</td>\n",
       "      <td>E14558</td>\n",
       "      <td>Credit Card</td>\n",
       "      <td>Shipped</td>\n",
       "    </tr>\n",
       "    <tr>\n",
       "      <th>4</th>\n",
       "      <td>96439</td>\n",
       "      <td>2022-03-11 10:07:15.833</td>\n",
       "      <td>94</td>\n",
       "      <td>999.0</td>\n",
       "      <td>2</td>\n",
       "      <td>1998.0</td>\n",
       "      <td>E2353</td>\n",
       "      <td>Credit Card</td>\n",
       "      <td>Completed</td>\n",
       "    </tr>\n",
       "  </tbody>\n",
       "</table>\n",
       "</div>"
      ],
      "text/plain": [
       "   transaction_id        transaction time  customer_id   price  quantity  \\\n",
       "0          363008 2023-12-07 21:14:05.000          216  1299.0         2   \n",
       "1          364318 2023-08-08 11:46:38.000          777  1234.0         1   \n",
       "2          658391 2022-09-26 17:22:44.192           55  1200.0         1   \n",
       "3          989719 2023-08-07 14:46:38.303          430  1000.0         2   \n",
       "4           96439 2022-03-11 10:07:15.833           94   999.0         2   \n",
       "\n",
       "    total  product_id payment_method     status  \n",
       "0  2598.0      E14564           Cash    Shipped  \n",
       "1  1234.0      E14559    Credit Card    Shipped  \n",
       "2  1200.0  B097ZW9P6Y     Debit Card  Completed  \n",
       "3  2000.0      E14558    Credit Card    Shipped  \n",
       "4  1998.0       E2353    Credit Card  Completed  "
      ]
     },
     "execution_count": 76,
     "metadata": {},
     "output_type": "execute_result"
    }
   ],
   "source": [
    "\n",
    "# Convert 'transaction_id' column to int\n",
    "df2['transaction_id'] = df2['transaction_id'].astype(int)\n",
    "df2.head()"
   ]
  },
  {
   "cell_type": "code",
   "execution_count": 77,
   "metadata": {},
   "outputs": [
    {
     "data": {
      "text/plain": [
       "array(['Cash', 'Credit Card', 'Debit Card', 'Money'], dtype=object)"
      ]
     },
     "execution_count": 77,
     "metadata": {},
     "output_type": "execute_result"
    }
   ],
   "source": [
    "# Get unique values in 'payment_method' column\n",
    "unique_values = df2['payment_method'].unique()\n",
    "unique_values\n"
   ]
  },
  {
   "cell_type": "code",
   "execution_count": 78,
   "metadata": {},
   "outputs": [
    {
     "data": {
      "text/plain": [
       "array(['Cash', 'Credit Card', 'Debit Card'], dtype=object)"
      ]
     },
     "execution_count": 78,
     "metadata": {},
     "output_type": "execute_result"
    }
   ],
   "source": [
    "# Replace 'money' with 'Cash' in 'payment_method' column\n",
    "df2['payment_method'] = df2['payment_method'].replace('Money', 'Cash')\n",
    "\n",
    "# Get unique values in 'payment_method' column\n",
    "unique_values = df2['payment_method'].unique()\n",
    "\n",
    "unique_values"
   ]
  },
  {
   "cell_type": "code",
   "execution_count": 79,
   "metadata": {},
   "outputs": [
    {
     "data": {
      "text/html": [
       "<div>\n",
       "<style scoped>\n",
       "    .dataframe tbody tr th:only-of-type {\n",
       "        vertical-align: middle;\n",
       "    }\n",
       "\n",
       "    .dataframe tbody tr th {\n",
       "        vertical-align: top;\n",
       "    }\n",
       "\n",
       "    .dataframe thead th {\n",
       "        text-align: right;\n",
       "    }\n",
       "</style>\n",
       "<table border=\"1\" class=\"dataframe\">\n",
       "  <thead>\n",
       "    <tr style=\"text-align: right;\">\n",
       "      <th></th>\n",
       "      <th>product_id</th>\n",
       "      <th>product_name</th>\n",
       "      <th>brand</th>\n",
       "      <th>category</th>\n",
       "      <th>transaction_id</th>\n",
       "      <th>transaction time</th>\n",
       "      <th>customer_id</th>\n",
       "      <th>price</th>\n",
       "      <th>quantity</th>\n",
       "      <th>total</th>\n",
       "      <th>payment_method</th>\n",
       "      <th>status</th>\n",
       "    </tr>\n",
       "  </thead>\n",
       "  <tbody>\n",
       "    <tr>\n",
       "      <th>0</th>\n",
       "      <td>E1122</td>\n",
       "      <td>Sony WH-1000XM4 Wireless Premium Noise Canceli...</td>\n",
       "      <td>Sony</td>\n",
       "      <td>Audio</td>\n",
       "      <td>779133</td>\n",
       "      <td>2023-06-05 22:01:34.839</td>\n",
       "      <td>21</td>\n",
       "      <td>90.00</td>\n",
       "      <td>1</td>\n",
       "      <td>90.00</td>\n",
       "      <td>Cash</td>\n",
       "      <td>Completed</td>\n",
       "    </tr>\n",
       "    <tr>\n",
       "      <th>1</th>\n",
       "      <td>E2350</td>\n",
       "      <td>ASUS ROG Strix G15 Gaming Laptop</td>\n",
       "      <td>ASUS</td>\n",
       "      <td>Gaming</td>\n",
       "      <td>498796</td>\n",
       "      <td>2023-12-28 14:40:00.590</td>\n",
       "      <td>24</td>\n",
       "      <td>799.00</td>\n",
       "      <td>1</td>\n",
       "      <td>799.00</td>\n",
       "      <td>Credit Card</td>\n",
       "      <td>Completed</td>\n",
       "    </tr>\n",
       "    <tr>\n",
       "      <th>2</th>\n",
       "      <td>B09156P11D</td>\n",
       "      <td>Whirlpool WGT4050MWM Whirlpool 5.0 cu. ft. Gas...</td>\n",
       "      <td>Whirlpool</td>\n",
       "      <td>Home Appliances</td>\n",
       "      <td>729722</td>\n",
       "      <td>2022-04-02 07:45:55.354</td>\n",
       "      <td>26</td>\n",
       "      <td>300.00</td>\n",
       "      <td>1</td>\n",
       "      <td>300.00</td>\n",
       "      <td>Cash</td>\n",
       "      <td>Completed</td>\n",
       "    </tr>\n",
       "    <tr>\n",
       "      <th>3</th>\n",
       "      <td>E14560</td>\n",
       "      <td>Tile Pro (2020) 4-Pack Bluetooth Tracker</td>\n",
       "      <td>Tile</td>\n",
       "      <td>Electronics</td>\n",
       "      <td>308658</td>\n",
       "      <td>2022-03-31 11:17:34.932</td>\n",
       "      <td>28</td>\n",
       "      <td>129.99</td>\n",
       "      <td>1</td>\n",
       "      <td>129.99</td>\n",
       "      <td>Credit Card</td>\n",
       "      <td>Shipped</td>\n",
       "    </tr>\n",
       "    <tr>\n",
       "      <th>4</th>\n",
       "      <td>E14563</td>\n",
       "      <td>Canon EOS R Mirrorless Camera with RF 24-105mm...</td>\n",
       "      <td>Canon</td>\n",
       "      <td>Cameras &amp; Photography</td>\n",
       "      <td>303694</td>\n",
       "      <td>2023-12-27 20:48:26.000</td>\n",
       "      <td>37</td>\n",
       "      <td>899.00</td>\n",
       "      <td>1</td>\n",
       "      <td>899.00</td>\n",
       "      <td>Cash</td>\n",
       "      <td>Shipped</td>\n",
       "    </tr>\n",
       "  </tbody>\n",
       "</table>\n",
       "</div>"
      ],
      "text/plain": [
       "   product_id                                       product_name      brand  \\\n",
       "0       E1122  Sony WH-1000XM4 Wireless Premium Noise Canceli...       Sony   \n",
       "1       E2350                   ASUS ROG Strix G15 Gaming Laptop       ASUS   \n",
       "2  B09156P11D  Whirlpool WGT4050MWM Whirlpool 5.0 cu. ft. Gas...  Whirlpool   \n",
       "3      E14560           Tile Pro (2020) 4-Pack Bluetooth Tracker       Tile   \n",
       "4      E14563  Canon EOS R Mirrorless Camera with RF 24-105mm...      Canon   \n",
       "\n",
       "                category  transaction_id        transaction time  customer_id  \\\n",
       "0                 Audio           779133 2023-06-05 22:01:34.839           21   \n",
       "1                Gaming           498796 2023-12-28 14:40:00.590           24   \n",
       "2       Home Appliances           729722 2022-04-02 07:45:55.354           26   \n",
       "3           Electronics           308658 2022-03-31 11:17:34.932           28   \n",
       "4  Cameras & Photography          303694 2023-12-27 20:48:26.000           37   \n",
       "\n",
       "    price  quantity   total payment_method     status  \n",
       "0   90.00         1   90.00           Cash  Completed  \n",
       "1  799.00         1  799.00    Credit Card  Completed  \n",
       "2  300.00         1  300.00           Cash  Completed  \n",
       "3  129.99         1  129.99    Credit Card    Shipped  \n",
       "4  899.00         1  899.00           Cash    Shipped  "
      ]
     },
     "execution_count": 79,
     "metadata": {},
     "output_type": "execute_result"
    }
   ],
   "source": [
    "merged_df = pd.merge(df1, df2, on='product_id')\n",
    "merged_df.head()"
   ]
  },
  {
   "cell_type": "code",
   "execution_count": 80,
   "metadata": {},
   "outputs": [
    {
     "name": "stdout",
     "output_type": "stream",
     "text": [
      "<class 'pandas.core.frame.DataFrame'>\n",
      "RangeIndex: 81 entries, 0 to 80\n",
      "Data columns (total 12 columns):\n",
      " #   Column            Non-Null Count  Dtype         \n",
      "---  ------            --------------  -----         \n",
      " 0   product_id        81 non-null     object        \n",
      " 1   product_name      81 non-null     object        \n",
      " 2   brand             81 non-null     object        \n",
      " 3   category          81 non-null     object        \n",
      " 4   transaction_id    81 non-null     int32         \n",
      " 5   transaction time  81 non-null     datetime64[ns]\n",
      " 6   customer_id       81 non-null     int64         \n",
      " 7   price             81 non-null     float64       \n",
      " 8   quantity          81 non-null     int64         \n",
      " 9   total             81 non-null     float64       \n",
      " 10  payment_method    81 non-null     object        \n",
      " 11  status            81 non-null     object        \n",
      "dtypes: datetime64[ns](1), float64(2), int32(1), int64(2), object(6)\n",
      "memory usage: 7.4+ KB\n"
     ]
    }
   ],
   "source": [
    "merged_df.info()"
   ]
  },
  {
   "cell_type": "code",
   "execution_count": 81,
   "metadata": {},
   "outputs": [
    {
     "data": {
      "text/plain": [
       "product_id          66\n",
       "product_name        68\n",
       "brand               33\n",
       "category            10\n",
       "transaction_id      71\n",
       "transaction time    71\n",
       "customer_id         66\n",
       "price               45\n",
       "quantity             2\n",
       "total               52\n",
       "payment_method       3\n",
       "status               4\n",
       "dtype: int64"
      ]
     },
     "execution_count": 81,
     "metadata": {},
     "output_type": "execute_result"
    }
   ],
   "source": [
    "merged_df.nunique()"
   ]
  },
  {
   "cell_type": "code",
   "execution_count": 82,
   "metadata": {},
   "outputs": [
    {
     "data": {
      "image/png": "[encoded data removed]",
      "text/plain": [
       "<Figure size 640x480 with 1 Axes>"
      ]
     },
     "metadata": {},
     "output_type": "display_data"
    }
   ],
   "source": [
    "category_counts = merged_df['category'].value_counts()\n",
    "\n",
    "# Create bar chart\n",
    "category_counts.plot(kind='bar')\n",
    "plt.title('Category Counts')\n",
    "plt.xlabel('Category')\n",
    "plt.ylabel('Count')# Show the plot\n",
    "plt.show()"
   ]
  },
  {
   "cell_type": "code",
   "execution_count": 83,
   "metadata": {},
   "outputs": [
    {
     "data": {
      "image/png": "[encoded data removed]",
      "text/plain": [
       "<Figure size 640x480 with 1 Axes>"
      ]
     },
     "metadata": {},
     "output_type": "display_data"
    }
   ],
   "source": [
    "\n",
    "\n",
    "# Group by 'category' and sum 'price'\n",
    "category_sums = merged_df.groupby('category')['total'].sum()\n",
    "\n",
    "# Plot the result\n",
    "category_sums.plot(kind='pie', autopct='%1.1f%%')\n",
    "plt.title('Revenue by Each Category')\n",
    "plt.ylabel('')\n",
    "plt.show()"
   ]
  },
  {
   "cell_type": "code",
   "execution_count": 84,
   "metadata": {},
   "outputs": [
    {
     "data": {
      "image/png": "[encoded data removed]",
      "text/plain": [
       "<Figure size 640x480 with 1 Axes>"
      ]
     },
     "metadata": {},
     "output_type": "display_data"
    }
   ],
   "source": [
    "\n",
    "# Convert 'date' column to datetime if it's not already\n",
    "merged_df['transaction time'] = pd.to_datetime(merged_df['transaction time'])\n",
    "\n",
    "# Set 'date' as the index\n",
    "merged_df.set_index('transaction time', inplace=True)\n",
    "\n",
    "# Resample by month and count transactions\n",
    "monthly_data = merged_df.resample('M').count()\n",
    "\n",
    "# Plot the number of transactions per month\n",
    "monthly_data['transaction_id'].plot(kind='line')\n",
    "\n",
    "# Show the plot\n",
    "plt.show()\n"
   ]
  },
  {
   "cell_type": "code",
   "execution_count": 85,
   "metadata": {},
   "outputs": [
    {
     "data": {
      "image/png": "[encoded data removed]",
      "text/plain": [
       "<Figure size 640x480 with 1 Axes>"
      ]
     },
     "metadata": {},
     "output_type": "display_data"
    }
   ],
   "source": [
    "\n",
    "\n",
    "# Get counts of each brand\n",
    "brand_counts = merged_df['brand'].value_counts()\n",
    "\n",
    "# Create tree map\n",
    "squarify.plot(sizes=brand_counts, label=brand_counts.index, alpha=0.7)\n",
    "\n",
    "\n",
    "# Show the plot\n",
    "plt.show()"
   ]
  },
  {
   "cell_type": "code",
   "execution_count": 86,
   "metadata": {},
   "outputs": [
    {
     "name": "stdout",
     "output_type": "stream",
     "text": [
      "Mean Squared Error: 93909.34231195034\n",
      "                          Actual    Predicted\n",
      "transaction time                             \n",
      "2022-07-06 07:46:28.087   129.99   -32.414223\n",
      "2023-06-05 22:01:34.839    90.00   -72.963860\n",
      "2022-11-16 07:49:14.057   700.00   700.000000\n",
      "2023-12-24 16:13:36.000  1000.00   776.817433\n",
      "2023-11-02 07:27:30.320    80.00  -107.730959\n",
      "2022-06-25 12:59:01.033   129.00   -48.901034\n",
      "2022-12-19 15:00:02.774   250.00   250.000000\n",
      "2023-11-19 07:13:59.728   499.00   778.726816\n",
      "2023-12-27 20:48:26.000   899.00  1468.211213\n",
      "2022-07-04 13:32:16.782   800.00   800.000000\n",
      "2023-06-17 11:56:57.280   170.00   151.808919\n",
      "2022-03-06 17:16:07.320   800.00  1253.263827\n",
      "2022-12-22 21:53:11.983   158.00   189.128435\n",
      "2022-03-06 17:16:07.320   800.00  1253.263827\n",
      "2023-08-08 11:46:38.000  1234.00  2008.970446\n",
      "2022-12-01 08:41:54.000  1000.00   902.739890\n",
      "2023-09-26 09:49:22.507   300.00   348.384022\n"
     ]
    }
   ],
   "source": [
    "from sklearn.model_selection import train_test_split\n",
    "from sklearn.linear_model import LinearRegression\n",
    "from sklearn.metrics import mean_squared_error\n",
    "\n",
    "# Select features and target\n",
    "features = merged_df.drop(['total', 'category'], axis=1)\n",
    "target = merged_df['total']\n",
    "\n",
    "# Convert categorical data to numerical data\n",
    "features = pd.get_dummies(features)\n",
    "\n",
    "# Split the data into training and test sets\n",
    "X_train, X_test, y_train, y_test = train_test_split(features, target, test_size=0.2, random_state=42)\n",
    "\n",
    "# Create and train the model\n",
    "model = LinearRegression()\n",
    "model.fit(X_train, y_train)\n",
    "\n",
    "# Make predictions\n",
    "predictions = model.predict(X_test)\n",
    "predictions\n",
    "# Evaluate the model\n",
    "mse = mean_squared_error(y_test, predictions)\n",
    "print(f'Mean Squared Error: {mse}')\n",
    "# Create a DataFrame with actual and predicted values\n",
    "results = pd.DataFrame({'Actual': y_test, 'Predicted': predictions})\n",
    "print(results)\n"
   ]
  }
 ],
 "metadata": {
  "kernelspec": {
   "display_name": "Python 3",
   "language": "python",
   "name": "python3"
  },
  "language_info": {
   "codemirror_mode": {
    "name": "ipython",
    "version": 3
   },
   "file_extension": ".py",
   "mimetype": "text/x-python",
   "name": "python",
   "nbconvert_exporter": "python",
   "pygments_lexer": "ipython3",
   "version": "3.12.0"
  }
 },
 "nbformat": 4,
 "nbformat_minor": 2
}
